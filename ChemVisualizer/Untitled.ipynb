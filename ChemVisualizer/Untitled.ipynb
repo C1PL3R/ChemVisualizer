{
 "cells": [
  {
   "cell_type": "code",
   "execution_count": 1,
   "id": "219a651f",
   "metadata": {},
   "outputs": [
    {
     "data": {
      "application/3dmoljs_load.v0": "<div id=\"3dmolviewer_1742658809466925\"  style=\"position: relative; width: 800px; height: 400px;\">\n        <p id=\"3dmolwarning_1742658809466925\" style=\"background-color:#ffcccc;color:black\">3Dmol.js failed to load for some reason.  Please check your browser console for error messages.<br></p>\n        </div>\n<script>\n\nvar loadScriptAsync = function(uri){\n  return new Promise((resolve, reject) => {\n    //this is to ignore the existence of requirejs amd\n    var savedexports, savedmodule;\n    if (typeof exports !== 'undefined') savedexports = exports;\n    else exports = {}\n    if (typeof module !== 'undefined') savedmodule = module;\n    else module = {}\n\n    var tag = document.createElement('script');\n    tag.src = uri;\n    tag.async = true;\n    tag.onload = () => {\n        exports = savedexports;\n        module = savedmodule;\n        resolve();\n    };\n  var firstScriptTag = document.getElementsByTagName('script')[0];\n  firstScriptTag.parentNode.insertBefore(tag, firstScriptTag);\n});\n};\n\nif(typeof $3Dmolpromise === 'undefined') {\n$3Dmolpromise = null;\n  $3Dmolpromise = loadScriptAsync('https://cdnjs.cloudflare.com/ajax/libs/3Dmol/2.4.2/3Dmol-min.js');\n}\n\nvar viewer_1742658809466925 = null;\nvar warn = document.getElementById(\"3dmolwarning_1742658809466925\");\nif(warn) {\n    warn.parentNode.removeChild(warn);\n}\n$3Dmolpromise.then(function() {\nviewer_1742658809466925 = $3Dmol.createViewer(document.getElementById(\"3dmolviewer_1742658809466925\"),{backgroundColor:\"white\"});\nviewer_1742658809466925.zoomTo();\n\tviewer_1742658809466925.addModel(\"\\n     RDKit          3D\\n\\n 12 12  0  0  0  0  0  0  0  0999 V2000\\n    0.8104   -1.1002    0.0178 C   0  0  0  0  0  0  0  0  0  0  0  0\\n    1.4083    0.1430   -0.0049 C   0  0  0  0  0  0  0  0  0  0  0  0\\n    0.5820    1.2510   -0.0228 C   0  0  0  0  0  0  0  0  0  0  0  0\\n   -0.7898    1.0995   -0.0178 C   0  0  0  0  0  0  0  0  0  0  0  0\\n   -1.4095   -0.1271    0.0046 C   0  0  0  0  0  0  0  0  0  0  0  0\\n   -0.5739   -1.2415    0.0226 C   0  0  0  0  0  0  0  0  0  0  0  0\\n    1.4046   -2.0234    0.0329 H   0  0  0  0  0  0  0  0  0  0  0  0\\n    2.4651    0.2388   -0.0083 H   0  0  0  0  0  0  0  0  0  0  0  0\\n    1.0214    2.2488   -0.0409 H   0  0  0  0  0  0  0  0  0  0  0  0\\n   -1.4024    2.0125   -0.0327 H   0  0  0  0  0  0  0  0  0  0  0  0\\n   -2.4803   -0.2642    0.0088 H   0  0  0  0  0  0  0  0  0  0  0  0\\n   -1.0358   -2.2373    0.0407 H   0  0  0  0  0  0  0  0  0  0  0  0\\n  1  2  2  0\\n  2  3  1  0\\n  3  4  2  0\\n  4  5  1  0\\n  5  6  2  0\\n  6  1  1  0\\n  1  7  1  0\\n  2  8  1  0\\n  3  9  1  0\\n  4 10  1  0\\n  5 11  1  0\\n  6 12  1  0\\nM  END\\n\",\"mol\");\n\tviewer_1742658809466925.setStyle({\"stick\": {}});\n\tviewer_1742658809466925.setBackgroundColor(\"white\");\n\tviewer_1742658809466925.zoomTo();\nviewer_1742658809466925.render();\n});\n</script>",
      "text/html": [
       "<div id=\"3dmolviewer_1742658809466925\"  style=\"position: relative; width: 800px; height: 400px;\">\n",
       "        <p id=\"3dmolwarning_1742658809466925\" style=\"background-color:#ffcccc;color:black\">3Dmol.js failed to load for some reason.  Please check your browser console for error messages.<br></p>\n",
       "        </div>\n",
       "<script>\n",
       "\n",
       "var loadScriptAsync = function(uri){\n",
       "  return new Promise((resolve, reject) => {\n",
       "    //this is to ignore the existence of requirejs amd\n",
       "    var savedexports, savedmodule;\n",
       "    if (typeof exports !== 'undefined') savedexports = exports;\n",
       "    else exports = {}\n",
       "    if (typeof module !== 'undefined') savedmodule = module;\n",
       "    else module = {}\n",
       "\n",
       "    var tag = document.createElement('script');\n",
       "    tag.src = uri;\n",
       "    tag.async = true;\n",
       "    tag.onload = () => {\n",
       "        exports = savedexports;\n",
       "        module = savedmodule;\n",
       "        resolve();\n",
       "    };\n",
       "  var firstScriptTag = document.getElementsByTagName('script')[0];\n",
       "  firstScriptTag.parentNode.insertBefore(tag, firstScriptTag);\n",
       "});\n",
       "};\n",
       "\n",
       "if(typeof $3Dmolpromise === 'undefined') {\n",
       "$3Dmolpromise = null;\n",
       "  $3Dmolpromise = loadScriptAsync('https://cdnjs.cloudflare.com/ajax/libs/3Dmol/2.4.2/3Dmol-min.js');\n",
       "}\n",
       "\n",
       "var viewer_1742658809466925 = null;\n",
       "var warn = document.getElementById(\"3dmolwarning_1742658809466925\");\n",
       "if(warn) {\n",
       "    warn.parentNode.removeChild(warn);\n",
       "}\n",
       "$3Dmolpromise.then(function() {\n",
       "viewer_1742658809466925 = $3Dmol.createViewer(document.getElementById(\"3dmolviewer_1742658809466925\"),{backgroundColor:\"white\"});\n",
       "viewer_1742658809466925.zoomTo();\n",
       "\tviewer_1742658809466925.addModel(\"\\n     RDKit          3D\\n\\n 12 12  0  0  0  0  0  0  0  0999 V2000\\n    0.8104   -1.1002    0.0178 C   0  0  0  0  0  0  0  0  0  0  0  0\\n    1.4083    0.1430   -0.0049 C   0  0  0  0  0  0  0  0  0  0  0  0\\n    0.5820    1.2510   -0.0228 C   0  0  0  0  0  0  0  0  0  0  0  0\\n   -0.7898    1.0995   -0.0178 C   0  0  0  0  0  0  0  0  0  0  0  0\\n   -1.4095   -0.1271    0.0046 C   0  0  0  0  0  0  0  0  0  0  0  0\\n   -0.5739   -1.2415    0.0226 C   0  0  0  0  0  0  0  0  0  0  0  0\\n    1.4046   -2.0234    0.0329 H   0  0  0  0  0  0  0  0  0  0  0  0\\n    2.4651    0.2388   -0.0083 H   0  0  0  0  0  0  0  0  0  0  0  0\\n    1.0214    2.2488   -0.0409 H   0  0  0  0  0  0  0  0  0  0  0  0\\n   -1.4024    2.0125   -0.0327 H   0  0  0  0  0  0  0  0  0  0  0  0\\n   -2.4803   -0.2642    0.0088 H   0  0  0  0  0  0  0  0  0  0  0  0\\n   -1.0358   -2.2373    0.0407 H   0  0  0  0  0  0  0  0  0  0  0  0\\n  1  2  2  0\\n  2  3  1  0\\n  3  4  2  0\\n  4  5  1  0\\n  5  6  2  0\\n  6  1  1  0\\n  1  7  1  0\\n  2  8  1  0\\n  3  9  1  0\\n  4 10  1  0\\n  5 11  1  0\\n  6 12  1  0\\nM  END\\n\",\"mol\");\n",
       "\tviewer_1742658809466925.setStyle({\"stick\": {}});\n",
       "\tviewer_1742658809466925.setBackgroundColor(\"white\");\n",
       "\tviewer_1742658809466925.zoomTo();\n",
       "viewer_1742658809466925.render();\n",
       "});\n",
       "</script>"
      ]
     },
     "metadata": {},
     "output_type": "display_data"
    }
   ],
   "source": [
    "from rdkit import Chem\n",
    "from rdkit.Chem import AllChem\n",
    "import py3Dmol\n",
    "\n",
    "# Введіть SMILES для води\n",
    "smiles = \"C1=CC=CC=C1\"  # Молекула води\n",
    "\n",
    "# Конвертуємо SMILES в молекулу\n",
    "mol = Chem.MolFromSmiles(smiles)\n",
    "\n",
    "# Додаємо водневі атоми\n",
    "mol = Chem.AddHs(mol)\n",
    "\n",
    "# Генерація 3D координат молекули\n",
    "AllChem.EmbedMolecule(mol)\n",
    "\n",
    "# Отримуємо 3D координати\n",
    "block = Chem.MolToMolBlock(mol)\n",
    "\n",
    "# Візуалізація молекули за допомогою py3Dmol\n",
    "viewer = py3Dmol.view(width=800, height=400)\n",
    "viewer.addModel(block, \"mol\")\n",
    "viewer.setStyle({'stick': {}})\n",
    "viewer.setBackgroundColor('white')\n",
    "viewer.zoomTo()\n",
    "viewer.show()\n"
   ]
  }
 ],
 "metadata": {
  "kernelspec": {
   "display_name": "Python 3 (ipykernel)",
   "language": "python",
   "name": "python3"
  },
  "language_info": {
   "codemirror_mode": {
    "name": "ipython",
    "version": 3
   },
   "file_extension": ".py",
   "mimetype": "text/x-python",
   "name": "python",
   "nbconvert_exporter": "python",
   "pygments_lexer": "ipython3",
   "version": "3.11.0"
  }
 },
 "nbformat": 4,
 "nbformat_minor": 5
}
